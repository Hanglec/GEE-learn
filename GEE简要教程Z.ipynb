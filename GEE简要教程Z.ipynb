{
 "cells": [
  {
   "cell_type": "markdown",
   "metadata": {},
   "source": [
    "# 1  生成可交互式地图"
   ]
  },
  {
   "cell_type": "raw",
   "metadata": {},
   "source": [
    "在开始本教程之前，需要：\n",
    "（1）科学上网+注册GEE账号\n",
    "（2）已准备好相关库的安装\n",
    "（3）如果geemap的版本不是最新的，建议进行更新"
   ]
  },
  {
   "cell_type": "code",
   "execution_count": null,
   "metadata": {
    "ExecuteTime": {
     "end_time": "2020-07-07T02:24:48.258231Z",
     "start_time": "2020-07-07T02:24:45.753133Z"
    }
   },
   "outputs": [],
   "source": [
    "# import 相关库\n",
    "import geemap\n",
    "import os\n",
    "import ee\n",
    "\n",
    "# 如果后续GEE授权认证时出现问题，则需设置代理地址，并根据本机地址进行调整\n",
    "# 如果没有问题，可以跳过下段代码\n",
    "os.environ['HTTP_PROXY'] = 'http://127.0.0.1:10809'\n",
    "os.environ['HTTPS_PROXY'] = 'http://127.0.0.1:10809'"
   ]
  },
  {
   "cell_type": "code",
   "execution_count": null,
   "metadata": {
    "ExecuteTime": {
     "end_time": "2020-07-07T02:24:49.404865Z",
     "start_time": "2020-07-07T02:24:49.398865Z"
    }
   },
   "outputs": [],
   "source": [
    "import json\n",
    "import requests\n",
    "from geemap import geojson_to_ee, ee_to_geojson\n",
    "from ipyleaflet import GeoJSON, Marker, MarkerCluster"
   ]
  },
  {
   "cell_type": "code",
   "execution_count": null,
   "metadata": {
    "ExecuteTime": {
     "end_time": "2020-07-06T08:17:13.339168Z",
     "start_time": "2020-07-06T08:16:57.497422Z"
    }
   },
   "outputs": [],
   "source": [
    "# 更新geemap\n",
    "geemap.update_package()"
   ]
  },
  {
   "cell_type": "markdown",
   "metadata": {},
   "source": [
    "## 1.1  生成基础地图"
   ]
  },
  {
   "cell_type": "raw",
   "metadata": {},
   "source": [
    "使用geemap.Map()生成可交互式地图（默认的设置为：(center=(40, -100), zoom=4)）\n",
    "*在任意函数中使用shift+Tab键查看具体参数设置"
   ]
  },
  {
   "cell_type": "code",
   "execution_count": null,
   "metadata": {
    "ExecuteTime": {
     "end_time": "2020-07-06T07:49:56.786199Z",
     "start_time": "2020-07-06T07:49:53.029122Z"
    }
   },
   "outputs": [],
   "source": [
    "Map = geemap.Map()\n",
    "# Defalut: Map.setCenter(40, -100, 4)\n",
    "Map"
   ]
  },
  {
   "cell_type": "markdown",
   "metadata": {},
   "source": [
    "## 1.2  更改/添加底层地图：Map.add_basemap"
   ]
  },
  {
   "cell_type": "raw",
   "metadata": {},
   "source": [
    "默认有几十个地图可选\n",
    "也可以使用Map.basemap_demo()交互式选择"
   ]
  },
  {
   "cell_type": "code",
   "execution_count": null,
   "metadata": {
    "ExecuteTime": {
     "end_time": "2020-07-06T02:27:13.264558Z",
     "start_time": "2020-07-06T02:27:13.258545Z"
    }
   },
   "outputs": [],
   "source": [
    "Map.add_basemap('HYBRID')"
   ]
  },
  {
   "cell_type": "code",
   "execution_count": null,
   "metadata": {},
   "outputs": [],
   "source": [
    "Map.basemap_demo()"
   ]
  },
  {
   "cell_type": "markdown",
   "metadata": {},
   "source": [
    "# 2  交互式工具"
   ]
  },
  {
   "cell_type": "markdown",
   "metadata": {},
   "source": [
    "## 2.1  inspector"
   ]
  },
  {
   "cell_type": "code",
   "execution_count": null,
   "metadata": {
    "ExecuteTime": {
     "end_time": "2020-07-06T02:54:06.149686Z",
     "start_time": "2020-07-06T02:53:58.973526Z"
    }
   },
   "outputs": [],
   "source": [
    "# 初始化\n",
    "Map = geemap.Map()\n",
    "\n",
    "# 导入GEE数据\n",
    "dem = ee.Image('USGS/SRTMGL1_003')  # SRTM高程数据\n",
    "landcover = ee.Image(\"ESA/GLOBCOVER_L4_200901_200912_V2_3\").select('landcover')\n",
    "states = ee.FeatureCollection(\"TIGER/2018/States\")\n",
    "\n",
    "# 设置显示参数\n",
    "vis_params = {\n",
    "    'min': 0,\n",
    "    'max': 4000,\n",
    "    'palette': ['006633', 'E5FFCC', '662A00', 'D8D8D8', 'F5F5F5']\n",
    "}\n",
    "\n",
    "# 利用addLayer添加图层\n",
    "Map.addLayer(dem, vis_params, 'STRM DEM', True, 0.5)\n",
    "Map.addLayer(landcover, {}, 'Land cover')\n",
    "Map.addLayer(states, {}, \"US States\")\n",
    "\n",
    "Map"
   ]
  },
  {
   "cell_type": "raw",
   "metadata": {},
   "source": [
    "在图层中勾选【Use Inspector】\n",
    "任意点击图中的一点，便可显示详细的信息"
   ]
  },
  {
   "cell_type": "markdown",
   "metadata": {},
   "source": [
    "## 2.2  draw features"
   ]
  },
  {
   "cell_type": "raw",
   "metadata": {},
   "source": [
    "在图层左方点击draw a feature\n",
    "在图层中任意添加数个feature"
   ]
  },
  {
   "cell_type": "code",
   "execution_count": null,
   "metadata": {},
   "outputs": [],
   "source": [
    "# 获取添加的特征列表\n",
    "Map.draw_features"
   ]
  },
  {
   "cell_type": "code",
   "execution_count": null,
   "metadata": {},
   "outputs": [],
   "source": [
    "# 获取添加的最后一个特征\n",
    "Map.draw_last_feature"
   ]
  },
  {
   "cell_type": "code",
   "execution_count": null,
   "metadata": {},
   "outputs": [],
   "source": [
    "# 将所有特征合并到一个集合中，获取其在states中的边界\n",
    "roi = ee.FeatureCollection(Map.draw_features)\n",
    "selected_states = states.filterBounds(roi)\n",
    "Map.addLayer(selected_states, {}, \"Selected states\")"
   ]
  },
  {
   "cell_type": "code",
   "execution_count": null,
   "metadata": {},
   "outputs": [],
   "source": [
    "# 裁剪所需要的区域\n",
    "clipped_dem = dem.clip(selected_states)\n",
    "Map.addLayer(clipped_dem, vis_params, 'Clipped image')"
   ]
  },
  {
   "cell_type": "markdown",
   "metadata": {},
   "source": [
    "## 2.3  split_map"
   ]
  },
  {
   "cell_type": "code",
   "execution_count": null,
   "metadata": {},
   "outputs": [],
   "source": [
    "# https://developers.google.com/earth-engine/datasets/catalog/USGS_NLCD\n",
    "# 定义一个函数，返回GEE数据集包含的所有子集ID\n",
    "def Get_GEEid(para):\n",
    "    collection = ee.ImageCollection(para)\n",
    "    return collection.aggregate_array('system:id').getInfo()\n",
    "\n",
    "\n",
    "USGS_ID = Get_GEEid(\"USGS/NLCD\")\n",
    "USGS_ID"
   ]
  },
  {
   "cell_type": "code",
   "execution_count": null,
   "metadata": {},
   "outputs": [],
   "source": [
    "# 分别选取2001年和2016年的土地利用数据进行对比\n",
    "nlcd_old = ee.Image(USGS_ID[1]).select('landcover')\n",
    "nlcd_new = ee.Image(USGS_ID[-1]).select('landcover')\n",
    "\n",
    "# 把GEE的图层转换为ipyleaflet TileLayer\n",
    "left_layer = geemap.ee_tile_layer(nlcd_old, {}, 'NLCD old')\n",
    "right_layer = geemap.ee_tile_layer(nlcd_new, {}, 'NLCD new')\n",
    "\n",
    "Map = geemap.Map()\n",
    "Map.split_map(left_layer, right_layer)\n",
    "Map"
   ]
  },
  {
   "cell_type": "markdown",
   "metadata": {},
   "source": [
    "## 2.4  Plotting"
   ]
  },
  {
   "cell_type": "code",
   "execution_count": null,
   "metadata": {},
   "outputs": [],
   "source": [
    "Map = geemap.Map()\n",
    "\n",
    "landsat7 = ee.Image('LE7_TOA_5YEAR/1999_2003') \\\n",
    "    .select([0, 1, 2, 3, 4, 6])\n",
    "landsat_vis = {'bands': ['B4', 'B3', 'B2'], 'gamma': 1.4}\n",
    "Map.addLayer(landsat7, landsat_vis, \"LE7_TOA_5YEAR/1999_2003\")\n",
    "\n",
    "GPM = ee.ImageCollection('NASA/GPM_L3/IMERG_V06') \\\n",
    "    .filter(ee.Filter.date('2016-01-01', '2016-06-01'))\n",
    "GPM_vis = {\n",
    "    'min': 0.0,\n",
    "    'max': 1000.0,\n",
    "    'gamma': 2.5,\n",
    "}\n",
    "Map.addLayer(GPM, GPM_vis, 'NASA/GPM_L3/IMERG_V06')\n",
    "\n",
    "Map"
   ]
  },
  {
   "cell_type": "code",
   "execution_count": null,
   "metadata": {},
   "outputs": [],
   "source": [
    "在图层右上角勾选【Use Plotting】\n",
    "在图层中点击任意一点即可查看信息"
   ]
  },
  {
   "cell_type": "markdown",
   "metadata": {},
   "source": [
    "## 2.5  legend"
   ]
  },
  {
   "cell_type": "code",
   "execution_count": null,
   "metadata": {},
   "outputs": [],
   "source": [
    "# 使用builtin_lengends添加以下遥感图像的图例\n",
    "legends = geemap.builtin_legends\n",
    "for legend in legends:\n",
    "    print(legend)"
   ]
  },
  {
   "cell_type": "code",
   "execution_count": null,
   "metadata": {},
   "outputs": [],
   "source": [
    "Map = geemap.Map()\n",
    "Map.add_basemap('HYBRID')\n",
    "landcover = ee.Image('USGS/NLCD/NLCD2016').select('landcover')\n",
    "Map.addLayer(landcover, {}, 'NLCD Land Cover')\n",
    "Map.add_legend(builtin_legend='NLCD')\n",
    "Map"
   ]
  },
  {
   "cell_type": "code",
   "execution_count": null,
   "metadata": {},
   "outputs": [],
   "source": [
    "# 自定义图例\n",
    "Map = geemap.Map()\n",
    "\n",
    "#（1）通过定义键和颜色\n",
    "legend_keys = ['One', 'Two', 'Three', 'Four', 'ect']\n",
    " #colorS can be defined using either hex code or RGB (0-255, 0-255, 0-255)\n",
    "legend_colors = ['#8DD3C7', '#FFFFB3', '#BEBADA', '#FB8072', '#80B1D3']\n",
    "# legend_colors = [(255, 0, 0), (127, 255, 0), (127, 18, 25), (36, 70, 180), (96, 68 123)]\n",
    "Map.add_legend(legend_keys=legend_keys, legend_colors=legend_colors, position='bottomleft')\n",
    "\n",
    "#（2）通过定义字典\n",
    "legend_dict = {\n",
    "    '11 Open Water': '466b9f',\n",
    "    '12 Perennial Ice/Snow': 'd1def8',\n",
    "    '21 Developed, Open Space': 'dec5c5',\n",
    "    '22 Developed, Low Intensity': 'd99282',\n",
    "    '23 Developed, Medium Intensity': 'eb0000',\n",
    "    '24 Developed High Intensity': 'ab0000',\n",
    "    '31 Barren Land (Rock/Sand/Clay)': 'b3ac9f',\n",
    "    '41 Deciduous Forest': '68ab5f',\n",
    "    '42 Evergreen Forest': '1c5f2c',\n",
    "    '43 Mixed Forest': 'b5c58f',\n",
    "    '51 Dwarf Scrub': 'af963c',\n",
    "    '52 Shrub/Scrub': 'ccb879',\n",
    "    '71 Grassland/Herbaceous': 'dfdfc2',\n",
    "    '72 Sedge/Herbaceous': 'd1d182',\n",
    "    '73 Lichens': 'a3cc51',\n",
    "    '74 Moss': '82ba9e',\n",
    "    '81 Pasture/Hay': 'dcd939',\n",
    "    '82 Cultivated Crops': 'ab6c28',\n",
    "    '90 Woody Wetlands': 'b8d9eb',\n",
    "    '95 Emergent Herbaceous Wetlands': '6c9fb8'\n",
    "}\n",
    "landcover = ee.Image('USGS/NLCD/NLCD2016').select('landcover')\n",
    "Map.addLayer(landcover, {}, 'NLCD Land Cover')\n",
    "Map.add_legend(legend_title=\"NLCD Land Cover Classification\", legend_dict=legend_dict, position='bottomright')\n",
    "\n",
    "# (3) 通过复制GEE的图例属性\n",
    "ee_class_table = \"\"\"\n",
    "\n",
    "Value\tColor\tDescription\n",
    "0\t1c0dff\tWater\n",
    "1\t05450a\tEvergreen needleleaf forest\n",
    "2\t086a10\tEvergreen broadleaf forest\n",
    "3\t54a708\tDeciduous needleleaf forest\n",
    "4\t78d203\tDeciduous broadleaf forest\n",
    "5\t009900\tMixed forest\n",
    "6\tc6b044\tClosed shrublands\n",
    "7\tdcd159\tOpen shrublands\n",
    "8\tdade48\tWoody savannas\n",
    "9\tfbff13\tSavannas\n",
    "10\tb6ff05\tGrasslands\n",
    "11\t27ff87\tPermanent wetlands\n",
    "12\tc24f44\tCroplands\n",
    "13\ta5a5a5\tUrban and built-up\n",
    "14\tff6d4c\tCropland/natural vegetation mosaic\n",
    "15\t69fff8\tSnow and ice\n",
    "16\tf9ffa4\tBarren or sparsely vegetated\n",
    "254\tffffff\tUnclassified\n",
    "\n",
    "\"\"\"\n",
    "\n",
    "landcover = ee.Image('MODIS/051/MCD12Q1/2013_01_01') \\\n",
    "    .select('Land_Cover_Type_1')\n",
    "Map.addLayer(landcover, {}, 'MODIS Land Cover')\n",
    "\n",
    "legend_dict = geemap.legend_from_ee(ee_class_table)\n",
    "Map.add_legend(legend_title=\"MODIS Global Land Cover\", legend_dict=legend_dict, position='upleft')\n",
    "\n",
    "Map"
   ]
  },
  {
   "cell_type": "markdown",
   "metadata": {},
   "source": [
    "## 2.6  colorbar"
   ]
  },
  {
   "cell_type": "code",
   "execution_count": null,
   "metadata": {
    "ExecuteTime": {
     "end_time": "2020-07-06T04:10:30.672600Z",
     "start_time": "2020-07-06T04:10:30.596628Z"
    }
   },
   "outputs": [],
   "source": [
    "# 定义一个colorbar\n",
    "width = 250\n",
    "height = 30\n",
    "palette = ['blue', 'purple', 'cyan', 'green', 'yellow', 'red']\n",
    "labels = [-40, 35]\n",
    "colorbar = geemap.create_colorbar(width=width,\n",
    "                                  height=height,\n",
    "                                  palette=palette,\n",
    "                                  vertical=False,\n",
    "                                  add_labels=True,\n",
    "                                  font_size=20,\n",
    "                                  labels=labels)\n",
    "geemap.show_image(colorbar)"
   ]
  },
  {
   "cell_type": "markdown",
   "metadata": {},
   "source": [
    "## 2.7  search"
   ]
  },
  {
   "cell_type": "code",
   "execution_count": null,
   "metadata": {
    "ExecuteTime": {
     "end_time": "2020-07-06T08:18:22.940692Z",
     "start_time": "2020-07-06T08:18:12.662356Z"
    }
   },
   "outputs": [],
   "source": [
    "Map = geemap.Map()\n",
    "Map\n",
    "\n",
    "# 在图层左上角点击【search location/data】可以直接获取相关信息"
   ]
  },
  {
   "cell_type": "code",
   "execution_count": null,
   "metadata": {
    "ExecuteTime": {
     "end_time": "2020-07-06T08:20:52.536307Z",
     "start_time": "2020-07-06T08:20:50.660678Z"
    }
   },
   "outputs": [],
   "source": [
    "print(Map.search_locations)\n",
    "print(Map.search_loc_geom)\n",
    "print(Map.search_loc_geom.getInfo())"
   ]
  },
  {
   "cell_type": "markdown",
   "metadata": {
    "heading_collapsed": true
   },
   "source": [
    "# 3  文件类型"
   ]
  },
  {
   "cell_type": "markdown",
   "metadata": {
    "heading_collapsed": true,
    "hidden": true
   },
   "source": [
    "## 3.1  json类型"
   ]
  },
  {
   "cell_type": "code",
   "execution_count": null,
   "metadata": {
    "hidden": true
   },
   "outputs": [],
   "source": [
    "file_path = os.path.abspath('../data/us-states.json')\n",
    "\n",
    "if not os.path.exists(file_path):\n",
    "    url = 'https://github.com/giswqs/geemap/raw/master/examples/data/us-states.json'\n",
    "    r = requests.get(url)\n",
    "    with open(file_path, 'w') as f:\n",
    "        f.write(r.content.decode(\"utf-8\"))        \n",
    "\n",
    "with open(file_path) as f:\n",
    "    json_states = json.load(f)\n",
    "\n",
    "json_layer = GeoJSON(data=json_states, name='US States JSON', hover_style={'fillColor': 'red' , 'fillOpacity': 0.5})\n",
    "Map.add_layer(json_layer)\n",
    "\n",
    "# 转换为GEE类型\n",
    "ee_states = geojson_to_ee(json_states)\n",
    "Map.addLayer(ee_states, {}, \"US States EE\")\n",
    "\n",
    "# 也可以重新转换为geo类型\n",
    "# json_states_2 = ee_to_geojson(ee_states)\n",
    "# json_layer_2 = GeoJSON(data=json_states_2, name='US States EE JSON', hover_style={'fillColor': 'red' , 'fillOpacity': 0.5})\n",
    "# Map.add_layer(json_layer_2)"
   ]
  },
  {
   "cell_type": "markdown",
   "metadata": {
    "heading_collapsed": true,
    "hidden": true
   },
   "source": [
    "## 3.2  shapefiles"
   ]
  },
  {
   "cell_type": "code",
   "execution_count": null,
   "metadata": {
    "hidden": true
   },
   "outputs": [],
   "source": [
    "Map = geemap.Map()\n",
    "# 加载shp文件\n",
    "states_shp = '../data/us-states.shp'\n",
    "states = geemap.shp_to_ee(states_shp)\n",
    "Map.addLayer(states, {}, 'US States')\n",
    "Map"
   ]
  },
  {
   "cell_type": "code",
   "execution_count": null,
   "metadata": {
    "hidden": true
   },
   "outputs": [],
   "source": [
    "# 导出shp文件\n",
    "geemap.ee_to_shp(states, filename='../data/countries_new.shp')\n",
    "# 导出其他格式的文件（更改后缀名即可：csv\\json\\kml\\kmz）\n",
    "geemap.ee_export_vector(states, filename='../data/states.csv')"
   ]
  },
  {
   "cell_type": "markdown",
   "metadata": {
    "heading_collapsed": true,
    "hidden": true
   },
   "source": [
    "## 3.3  Image"
   ]
  },
  {
   "cell_type": "code",
   "execution_count": null,
   "metadata": {
    "hidden": true
   },
   "outputs": [],
   "source": [
    "# 加载Image图像\n",
    "image = ee.Image('LE7_TOA_5YEAR/1999_2003')\n",
    "# 定义下载区域\n",
    "roi = ee.Geometry.Polygon(\n",
    "  [[[101.0, 35.0],\n",
    "    [101.0, 34.0],\n",
    "    [100.0, 34.0],\n",
    "    [100.0, 35.0]]], None, False)\n",
    "# 输出文件路径\n",
    "out_dir = os.path.join(os.path.expanduser('~'), 'Downloads')\n",
    "filename = os.path.join(out_dir, 'landsat.tif')\n",
    "filename"
   ]
  },
  {
   "cell_type": "code",
   "execution_count": null,
   "metadata": {
    "hidden": true
   },
   "outputs": [],
   "source": [
    "# 裁剪影像\n",
    "image = image.clip(roi).unmask()\n",
    "# 输出影像（最后一个选项为是否输出每个波段为一张影像）\n",
    "geemap.ee_export_image(image, filename=filename, scale=90, region=roi, file_per_band=False)"
   ]
  },
  {
   "cell_type": "markdown",
   "metadata": {
    "heading_collapsed": true,
    "hidden": true
   },
   "source": [
    "## 3.4  ImageCollection"
   ]
  },
  {
   "cell_type": "code",
   "execution_count": null,
   "metadata": {
    "hidden": true
   },
   "outputs": [],
   "source": [
    "loc = ee.Geometry.Point(-99.2222, 46.7816)\n",
    "collection = ee.ImageCollection('USDA/NAIP/DOQQ') \\\n",
    "    .filterBounds(loc) \\\n",
    "    .filterDate('2008-01-01', '2020-01-01') \\\n",
    "    .filter(ee.Filter.listContains(\"system:band_names\", \"N\"))\n",
    "out_dir = os.path.join(os.path.expanduser('~'), 'Downloads')\n",
    "print(collection.aggregate_array('system:index').getInfo())\n",
    "geemap.ee_export_image_collection(collection, out_dir=out_dir)"
   ]
  },
  {
   "cell_type": "markdown",
   "metadata": {
    "heading_collapsed": true,
    "hidden": true
   },
   "source": [
    "## 3.5  numpy"
   ]
  },
  {
   "cell_type": "code",
   "execution_count": null,
   "metadata": {
    "hidden": true
   },
   "outputs": [],
   "source": [
    "import numpy as np\n",
    "import matplotlib.pyplot as plt\n",
    "\n",
    "img = ee.Image('LANDSAT/LC08/C01/T1_SR/LC08_038029_20180810') \\\n",
    "  .select(['B4', 'B5', 'B6'])\n",
    "\n",
    "aoi = ee.Geometry.Polygon(\n",
    "  [[[-110.8, 44.7],\n",
    "    [-110.8, 44.6],\n",
    "    [-110.6, 44.6],\n",
    "    [-110.6, 44.7]]], None, False)\n",
    "\n",
    "rgb_img = geemap.ee_to_numpy(img, region=aoi)\n",
    "print(rgb_img.shape)"
   ]
  },
  {
   "cell_type": "code",
   "execution_count": null,
   "metadata": {
    "hidden": true
   },
   "outputs": [],
   "source": [
    "# Scale the data to [0, 255] to show as an RGB image. \n",
    "# Adapted from https://bit.ly/2XlmQY8. Credits to Justin Braaten\n",
    "rgb_img_test = (255*((rgb_img[:, :, 0:3] - 100)/3500)).astype('uint8')\n",
    "plt.imshow(rgb_img_test)\n",
    "plt.show()"
   ]
  },
  {
   "cell_type": "markdown",
   "metadata": {
    "hidden": true
   },
   "source": [
    "## 3.6  Gif"
   ]
  },
  {
   "cell_type": "code",
   "execution_count": null,
   "metadata": {
    "ExecuteTime": {
     "end_time": "2020-07-06T02:58:49.128246Z",
     "start_time": "2020-07-06T02:58:48.667240Z"
    },
    "cell_style": "center",
    "hidden": true
   },
   "outputs": [],
   "source": [
    "# 加载gif动图\n",
    "in_gif = os.path.abspath('../data/animation.gif')\n",
    "geemap.show_image(in_gif)\n",
    "\n",
    "# 设置输出路径\n",
    "out_path = r'E:/GEE'\n",
    "out_gif = os.path.join(out_path, 'Downloads/output.gif')"
   ]
  },
  {
   "cell_type": "code",
   "execution_count": null,
   "metadata": {
    "ExecuteTime": {
     "end_time": "2020-07-06T03:08:31.208942Z",
     "start_time": "2020-07-06T03:08:27.137495Z"
    },
    "cell_style": "center",
    "hidden": true
   },
   "outputs": [],
   "source": [
    "geemap.add_text_to_gif(in_gif,\n",
    "                       out_gif,\n",
    "                       xy=('5%', '5%'),\n",
    "                       text_sequence=1984,\n",
    "                       font_size=30,\n",
    "                       font_color='#0000ff',\n",
    "                       duration=100)\n",
    "geemap.add_text_to_gif(out_gif,\n",
    "                       out_gif,\n",
    "                       xy=('30%', '85%'),\n",
    "                       text_sequence=\"Las Vegas\",\n",
    "                       font_type=\"timesbd.ttf\",\n",
    "                       font_color='black')\n",
    "geemap.show_image(out_gif)"
   ]
  },
  {
   "cell_type": "code",
   "execution_count": null,
   "metadata": {
    "ExecuteTime": {
     "end_time": "2020-07-06T03:19:32.714593Z",
     "start_time": "2020-07-06T03:19:11.560843Z"
    },
    "hidden": true
   },
   "outputs": [],
   "source": [
    "aoi = ee.Geometry.Polygon(\n",
    "    [[[-179.0, 78.0], [-179.0, -58.0], [179.0, -58.0], [179.0, 78.0]]], None,\n",
    "    False)\n",
    "tempCol = ee.ImageCollection('NOAA/GFS0P25') \\\n",
    "    .filterDate('2018-12-22', '2018-12-23') \\\n",
    "    .limit(24) \\\n",
    "    .select('temperature_2m_above_ground')\n",
    "videoArgs = {\n",
    "    'dimensions': 768,\n",
    "    'region': aoi,\n",
    "    'framesPerSecond': 10,\n",
    "    'crs': 'EPSG:3857',\n",
    "    'min': -40.0,\n",
    "    'max': 35.0,\n",
    "    'palette': ['blue', 'purple', 'cyan', 'green', 'yellow', 'red']\n",
    "}\n",
    "\n",
    "# 下载Gif\n",
    "saved_gif = os.path.join(out_path, 'temperature.gif')\n",
    "geemap.download_ee_video(tempCol, videoArgs, saved_gif)\n",
    "geemap.show_image(saved_gif)"
   ]
  },
  {
   "cell_type": "code",
   "execution_count": null,
   "metadata": {
    "ExecuteTime": {
     "end_time": "2020-07-06T03:21:17.188894Z",
     "start_time": "2020-07-06T03:21:11.338752Z"
    },
    "hidden": true
   },
   "outputs": [],
   "source": [
    "out_gif = os.path.join(out_path, 'temperature2.gif')\n",
    "text = [str(n).zfill(2) + \":00\" for n in range(0, 24)]\n",
    "geemap.add_text_to_gif(saved_gif,\n",
    "                       out_gif,\n",
    "                       xy=('3%', '5%'),\n",
    "                       text_sequence=text,\n",
    "                       font_size=30,\n",
    "                       font_color='#ffffff')\n",
    "geemap.add_text_to_gif(out_gif,\n",
    "                       out_gif,\n",
    "                       xy=('32%', '92%'),\n",
    "                       text_sequence='NOAA GFS Hourly Temperature',\n",
    "                       font_color='white')\n",
    "geemap.show_image(out_gif)"
   ]
  },
  {
   "cell_type": "code",
   "execution_count": null,
   "metadata": {
    "ExecuteTime": {
     "end_time": "2020-07-06T04:00:31.258594Z",
     "start_time": "2020-07-06T04:00:28.618764Z"
    },
    "hidden": true
   },
   "outputs": [],
   "source": [
    "# 下载一个GIF\n",
    "url = 'https://i.imgur.com/MSde1om.gif'\n",
    "out_path = r'E:/GEE'\n",
    "geemap.download_from_url(url, out_file_name='temp.gif', out_dir=out_path)\n",
    "in_gif = os.path.join(out_path, 'temp.gif')\n",
    "geemap.show_image(in_gif)"
   ]
  },
  {
   "cell_type": "code",
   "execution_count": null,
   "metadata": {
    "ExecuteTime": {
     "end_time": "2020-07-06T04:03:25.194565Z",
     "start_time": "2020-07-06T04:03:22.345870Z"
    },
    "hidden": true
   },
   "outputs": [],
   "source": [
    "noaa_logo = 'https://bit.ly/3ahJoMq'\n",
    "out_gif = os.path.join(out_path, 'output.gif')\n",
    "\n",
    "# 为GIF添加logo\n",
    "geemap.add_image_to_gif(in_gif,\n",
    "                 out_gif,\n",
    "                 in_image=noaa_logo,\n",
    "                 xy=('2%', '80%'),\n",
    "                 image_size=(80, 80))\n",
    "geemap.show_image(out_gif)"
   ]
  },
  {
   "cell_type": "code",
   "execution_count": null,
   "metadata": {
    "ExecuteTime": {
     "end_time": "2020-07-06T04:07:31.756097Z",
     "start_time": "2020-07-06T04:07:29.755267Z"
    },
    "hidden": true
   },
   "outputs": [],
   "source": [
    "# 定义一个colorbar\n",
    "width = 250\n",
    "height = 30\n",
    "palette = ['blue', 'purple', 'cyan', 'green', 'yellow', 'red']\n",
    "labels = [-40, 35]\n",
    "colorbar = geemap.create_colorbar(width=width,\n",
    "                                  height=height,\n",
    "                                  palette=palette,\n",
    "                                  vertical=False,\n",
    "                                  add_labels=True,\n",
    "                                  font_size=20,\n",
    "                                  labels=labels)\n",
    "# 将定义的colorbar 加载到图像中，其本质还是添加图像\n",
    "geemap.add_image_to_gif(out_gif,\n",
    "                          out_gif,\n",
    "                          in_image=colorbar,\n",
    "                          xy=('69%', '89%'),\n",
    "                          image_size=(250, 250))\n",
    "geemap.show_image(out_gif)"
   ]
  },
  {
   "cell_type": "markdown",
   "metadata": {},
   "source": [
    "# 4  数据分析"
   ]
  },
  {
   "cell_type": "markdown",
   "metadata": {
    "heading_collapsed": true
   },
   "source": [
    "## 4.1  聚类"
   ]
  },
  {
   "cell_type": "code",
   "execution_count": null,
   "metadata": {
    "hidden": true
   },
   "outputs": [],
   "source": [
    "# 导入特征文件\n",
    "file_path = os.path.abspath('../data/us-cities.json')\n",
    "# 如果没有该文件则请求下载此文件\n",
    "if not os.path.exists(file_path):\n",
    "    url = 'https://github.com/giswqs/geemap/raw/master/examples/data/us-cities.json'\n",
    "    r = requests.get(url)\n",
    "    with open(file_path, 'w') as f:\n",
    "        f.write(r.content.decode(\"utf-8\"))        \n",
    "\n",
    "with open(file_path) as f:\n",
    "    json_data = json.load(f)\n",
    "    \n",
    "json_data['features'][:4]"
   ]
  },
  {
   "cell_type": "code",
   "execution_count": null,
   "metadata": {
    "hidden": true
   },
   "outputs": [],
   "source": [
    "Map = geemap.Map()\n",
    "\n",
    "maker_cluster = MarkerCluster(\n",
    "    markers=[Marker(location=feature['geometry']['coordinates'][::-1]) for feature in json_data['features']],\n",
    "    name = 'Markers')\n",
    "\n",
    "Map.add_layer(maker_cluster)\n",
    "Map"
   ]
  },
  {
   "cell_type": "markdown",
   "metadata": {
    "heading_collapsed": true
   },
   "source": [
    "## 4.2  区域分析"
   ]
  },
  {
   "cell_type": "code",
   "execution_count": null,
   "metadata": {
    "hidden": true
   },
   "outputs": [],
   "source": [
    "# 加载DEM数据\n",
    "dem = ee.Image('USGS/SRTMGL1_003')\n",
    "\n",
    "dem_vis = {\n",
    "  'min': 0,\n",
    "  'max': 4000,\n",
    "  'palette': ['006633', 'E5FFCC', '662A00', 'D8D8D8', 'F5F5F5']}\n",
    "\n",
    "Map = geemap.Map()\n",
    "Map.addLayer(dem, dem_vis, 'SRTM DEM')\n",
    "\n",
    "states = ee.FeatureCollection(\"TIGER/2018/States\")\n",
    "Map.addLayer(states, {}, 'US States')\n",
    "\n",
    "Map"
   ]
  },
  {
   "cell_type": "code",
   "execution_count": null,
   "metadata": {
    "hidden": true
   },
   "outputs": [],
   "source": [
    "out_dir = os.path.join(os.path.expanduser('~'), 'Downloads')\n",
    "out_dem_stats = os.path.join(out_dir, 'dem_stats.csv')  \n",
    "\n",
    "# 可输出文件类型: csv, shp, json, kml, kmz\n",
    "# 可选择区域计算指标: MEAN, MAXIMUM, MINIMUM, MEDIAN, STD, MIN_MAX, VARIANCE, SUM\n",
    "geemap.zonal_statistics(dem, states, out_dem_stats, statistics_type='MEAN', scale=1000)"
   ]
  },
  {
   "cell_type": "code",
   "execution_count": null,
   "metadata": {
    "hidden": true
   },
   "outputs": [],
   "source": [
    "landcover = ee.Image('USGS/NLCD/NLCD2016').select('landcover')\n",
    "Map.addLayer(landcover, {}, 'NLCD 2016')\n",
    "Map.add_legend(builtin_legend='NLCD')\n",
    "\n",
    "out_dir = os.path.join(os.path.expanduser('~'), 'Downloads')\n",
    "nlcd_stats = os.path.join(out_dir, 'nlcd_stats.csv')  \n",
    "\n",
    "# statistics_type can be either 'SUM' or 'PERCENTAGE'\n",
    "# denominator can be used to convert square meters to other areal units, such as square kilimeters\n",
    "geemap.zonal_statistics_by_group(landcover, states, nlcd_stats, statistics_type='SUM', denominator=1000000, decimal_places=2)"
   ]
  },
  {
   "cell_type": "markdown",
   "metadata": {},
   "source": [
    "# 5  实战练习"
   ]
  },
  {
   "cell_type": "markdown",
   "metadata": {},
   "source": [
    "## 5.1  生成Landsat gif"
   ]
  },
  {
   "cell_type": "markdown",
   "metadata": {
    "solution": "hidden",
    "solution_first": true
   },
   "source": [
    "目标：生成1985年以来Landsat图像的Gif动图"
   ]
  },
  {
   "cell_type": "code",
   "execution_count": null,
   "metadata": {
    "ExecuteTime": {
     "end_time": "2020-07-06T07:44:52.820091Z",
     "start_time": "2020-07-06T07:43:56.917359Z"
    },
    "solution": "hidden"
   },
   "outputs": [],
   "source": [
    "# 解法1：\n",
    "# 定义区域\n",
    "roi = ee.Geometry.Polygon([[[-115.471773, 35.892718], [-115.471773, 36.409454],\n",
    "                            [-114.271283, 36.409454], [-114.271283, 35.892718],\n",
    "                            [-115.471773, 35.892718]]], None, False)\n",
    "\n",
    "collection = geemap.landsat_timeseries(roi=roi,\n",
    "                                       start_year=1985,\n",
    "                                       end_year=2019,\n",
    "                                       start_date='01-10',\n",
    "                                       end_date='12-20')\n",
    "print(collection.size().getInfo())\n",
    "\n",
    "# Define arguments for animation function parameters.\n",
    "video_args = {\n",
    "    'dimensions': 768,\n",
    "    'region': roi,\n",
    "    'framesPerSecond': 10,\n",
    "    'bands': ['NIR', 'Red', 'Green'],\n",
    "    'min': 0,\n",
    "    'max': 4000,\n",
    "    'gamma': [1, 1, 1]\n",
    "}\n",
    "\n",
    "# 下载gif\n",
    "out_gif = os.path.join(out_path, \"landsat_ts.gif\")\n",
    "geemap.download_ee_video(collection, video_args, out_gif)\n",
    "\n",
    "# 添加文本\n",
    "landsat_gif = os.path.join(out_path, \"landsat_ts_text.gif\")\n",
    "geemap.add_text_to_gif(out_gif,\n",
    "                       landsat_gif,\n",
    "                       xy=('3%', '5%'),\n",
    "                       text_sequence=1985,\n",
    "                       font_size=30,\n",
    "                       font_color='#ffffff',\n",
    "                       add_progress_bar=False)\n",
    "\n",
    "# 添加进度条\n",
    "label = 'Urban Growth in Las Vegas'\n",
    "geemap.add_text_to_gif(landsat_gif,\n",
    "                       landsat_gif,\n",
    "                       xy=('2%', '88%'),\n",
    "                       text_sequence=label,\n",
    "                       font_size=30,\n",
    "                       font_color='#ffffff',\n",
    "                       progress_bar_color='cyan')\n",
    "geemap.show_image(landsat_gif)"
   ]
  },
  {
   "cell_type": "code",
   "execution_count": null,
   "metadata": {
    "ExecuteTime": {
     "end_time": "2020-07-06T07:50:20.837510Z",
     "start_time": "2020-07-06T07:50:17.276840Z"
    },
    "solution": "hidden"
   },
   "outputs": [],
   "source": [
    "# 解法2\n",
    "# 定义区域\n",
    "roi = ee.Geometry.Polygon([[[-115.471773, 35.892718], [-115.471773, 36.409454],\n",
    "                            [-114.271283, 36.409454], [-114.271283, 35.892718],\n",
    "                            [-115.471773, 35.892718]]], None, False)\n",
    "label = 'Urban Growth in Las Vegas'\n",
    "\n",
    "Map = geemap.Map()\n",
    "Map.add_landsat_ts_gif(label=label,\n",
    "                       start_year=1985,\n",
    "                       bands=['Red', 'Green', 'Blue'],\n",
    "                       font_color='white',\n",
    "                       frames_per_second=10,\n",
    "                       progress_bar_color='blue')\n",
    "Map"
   ]
  },
  {
   "cell_type": "markdown",
   "metadata": {},
   "source": [
    "## 5.2 批量练习"
   ]
  },
  {
   "cell_type": "code",
   "execution_count": null,
   "metadata": {
    "ExecuteTime": {
     "end_time": "2020-07-07T02:25:10.030389Z",
     "start_time": "2020-07-07T02:24:55.482183Z"
    },
    "scrolled": true
   },
   "outputs": [],
   "source": [
    "geemap.ee_search()"
   ]
  },
  {
   "cell_type": "code",
   "execution_count": null,
   "metadata": {
    "ExecuteTime": {
     "end_time": "2020-07-06T09:06:23.299754Z",
     "start_time": "2020-07-06T09:06:21.996526Z"
    },
    "scrolled": true
   },
   "outputs": [],
   "source": [
    "geemap.file_browser(\"I:/GEE教程/geemap/examples\")"
   ]
  },
  {
   "cell_type": "code",
   "execution_count": null,
   "metadata": {
    "ExecuteTime": {
     "end_time": "2020-07-07T02:19:20.213924Z",
     "start_time": "2020-07-07T02:18:42.192345Z"
    }
   },
   "outputs": [],
   "source": [
    "out_dir = os.path.join(os.path.expanduser('~'), 'Downloads')\n",
    "out_csv = os.path.join(out_dir, 'ee_api.csv')\n",
    "geemap.ee_api_to_csv(out_csv)"
   ]
  }
 ],
 "metadata": {
  "hide_input": false,
  "kernelspec": {
   "display_name": "Python gee",
   "language": "python",
   "name": "gee"
  },
  "language_info": {
   "codemirror_mode": {
    "name": "ipython",
    "version": 3
   },
   "file_extension": ".py",
   "mimetype": "text/x-python",
   "name": "python",
   "nbconvert_exporter": "python",
   "pygments_lexer": "ipython3",
   "version": "3.8.3"
  },
  "toc": {
   "base_numbering": 1,
   "nav_menu": {},
   "number_sections": true,
   "sideBar": true,
   "skip_h1_title": true,
   "title_cell": "Table of Contents",
   "title_sidebar": "Contents",
   "toc_cell": false,
   "toc_position": {},
   "toc_section_display": true,
   "toc_window_display": true
  },
  "varInspector": {
   "cols": {
    "lenName": 16,
    "lenType": 16,
    "lenVar": 40
   },
   "kernels_config": {
    "python": {
     "delete_cmd_postfix": "",
     "delete_cmd_prefix": "del ",
     "library": "var_list.py",
     "varRefreshCmd": "print(var_dic_list())"
    },
    "r": {
     "delete_cmd_postfix": ") ",
     "delete_cmd_prefix": "rm(",
     "library": "var_list.r",
     "varRefreshCmd": "cat(var_dic_list()) "
    }
   },
   "types_to_exclude": [
    "module",
    "function",
    "builtin_function_or_method",
    "instance",
    "_Feature"
   ],
   "window_display": false
  }
 },
 "nbformat": 4,
 "nbformat_minor": 4
}
