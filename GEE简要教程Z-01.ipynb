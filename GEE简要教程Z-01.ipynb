{
 "cells": [
  {
   "cell_type": "markdown",
   "metadata": {},
   "source": [
    "# 1  生成可交互式地图"
   ]
  },
  {
   "cell_type": "raw",
   "metadata": {},
   "source": [
    "在开始本教程之前，需要：\n",
    "（1）科学上网+注册GEE账号\n",
    "（2）已准备好相关库的安装\n",
    "（3）如果geemap的版本不是最新的，建议直接在jupyter notebook上运行“geemap.update_package()”进行更新"
   ]
  },
  {
   "cell_type": "code",
   "execution_count": null,
   "metadata": {},
   "outputs": [],
   "source": [
    "# import 相关库\n",
    "import geemap, os, ee\n",
    "\n",
    "# 如果后续GEE授权认证时出现问题，则需设置代理地址，并根据本机地址进行调整\n",
    "# 如果没有问题，可以跳过下段代码\n",
    "os.environ['HTTP_PROXY'] = 'http://127.0.0.1:10809'\n",
    "os.environ['HTTPS_PROXY'] = 'http://127.0.0.1:10809'"
   ]
  },
  {
   "cell_type": "code",
   "execution_count": null,
   "metadata": {},
   "outputs": [],
   "source": [
    "import json\n",
    "import requests\n",
    "from geemap import geojson_to_ee, ee_to_geojson\n",
    "from ipyleaflet import GeoJSON, Marker, MarkerCluster"
   ]
  },
  {
   "cell_type": "markdown",
   "metadata": {},
   "source": [
    "## 1.1  生成基础地图"
   ]
  },
  {
   "cell_type": "raw",
   "metadata": {},
   "source": [
    "使用geemap.Map()生成可交互式地图（默认的设置为：(center=(40, -100), zoom=4)）\n",
    "*在任意函数中使用shift+Tab键查看具体参数设置"
   ]
  },
  {
   "cell_type": "code",
   "execution_count": null,
   "metadata": {},
   "outputs": [],
   "source": [
    "Map = geemap.Map()\n",
    "Map"
   ]
  },
  {
   "cell_type": "markdown",
   "metadata": {},
   "source": [
    "## 1.2  更改/添加底层地图：Map.add_basemap"
   ]
  },
  {
   "cell_type": "raw",
   "metadata": {},
   "source": [
    "默认有几十个地图可选\n",
    "也可以使用Map.basemap_demo()交互式选择"
   ]
  },
  {
   "cell_type": "code",
   "execution_count": null,
   "metadata": {},
   "outputs": [],
   "source": [
    "Map.add_basemap('HYBRID')"
   ]
  },
  {
   "cell_type": "code",
   "execution_count": null,
   "metadata": {},
   "outputs": [],
   "source": [
    "Map.basemap_demo()"
   ]
  },
  {
   "cell_type": "markdown",
   "metadata": {},
   "source": [
    "# 2  交互式工具"
   ]
  },
  {
   "cell_type": "markdown",
   "metadata": {},
   "source": [
    "## 2.1  inspector"
   ]
  },
  {
   "cell_type": "code",
   "execution_count": null,
   "metadata": {},
   "outputs": [],
   "source": [
    "# 初始化\n",
    "Map = geemap.Map()\n",
    "\n",
    "# 导入GEE数据\n",
    "dem = ee.Image('USGS/SRTMGL1_003')  # SRTM高程数据\n",
    "landcover = ee.Image(\"ESA/GLOBCOVER_L4_200901_200912_V2_3\").select('landcover')  \n",
    "states = ee.FeatureCollection(\"TIGER/2018/States\")\n",
    "\n",
    "# 设置显示参数\n",
    "vis_params = {\n",
    "  'min': 0,\n",
    "  'max': 4000,\n",
    "  'palette': ['006633', 'E5FFCC', '662A00', 'D8D8D8', 'F5F5F5']}\n",
    "\n",
    "# 利用addLayer添加图层\n",
    "Map.addLayer(dem, vis_params, 'STRM DEM', True, 0.5)\n",
    "Map.addLayer(landcover, {}, 'Land cover')\n",
    "Map.addLayer(states, {}, \"US States\")\n",
    "\n",
    "Map"
   ]
  },
  {
   "cell_type": "raw",
   "metadata": {},
   "source": [
    "在图层中勾选【Use Inspector】\n",
    "任意点击图中的一点，便可显示详细的信息"
   ]
  },
  {
   "cell_type": "markdown",
   "metadata": {},
   "source": [
    "## 2.2  draw features"
   ]
  },
  {
   "cell_type": "raw",
   "metadata": {},
   "source": [
    "在图层左方点击draw a feature\n",
    "在图层中任意添加数个feature"
   ]
  },
  {
   "cell_type": "code",
   "execution_count": null,
   "metadata": {},
   "outputs": [],
   "source": [
    "# 获取添加的特征列表\n",
    "Map.draw_features"
   ]
  },
  {
   "cell_type": "code",
   "execution_count": null,
   "metadata": {},
   "outputs": [],
   "source": [
    "# 获取添加的最后一个特征\n",
    "Map.draw_last_feature"
   ]
  },
  {
   "cell_type": "code",
   "execution_count": null,
   "metadata": {},
   "outputs": [],
   "source": [
    "# 将所有特征合并到一个集合中，获取其在states中的边界\n",
    "roi = ee.FeatureCollection(Map.draw_features)\n",
    "selected_states = states.filterBounds(roi)\n",
    "Map.addLayer(selected_states, {}, \"Selected states\")"
   ]
  },
  {
   "cell_type": "code",
   "execution_count": null,
   "metadata": {},
   "outputs": [],
   "source": [
    "# 裁剪所需要的区域\n",
    "clipped_dem = dem.clip(selected_states)\n",
    "Map.addLayer(clipped_dem, vis_params, 'Clipped image')"
   ]
  },
  {
   "cell_type": "markdown",
   "metadata": {},
   "source": [
    "## 2.3  split_map"
   ]
  },
  {
   "cell_type": "code",
   "execution_count": null,
   "metadata": {},
   "outputs": [],
   "source": [
    "# https://developers.google.com/earth-engine/datasets/catalog/USGS_NLCD\n",
    "# 定义一个函数，返回GEE数据集包含的所有子集ID\n",
    "def Get_GEEid(para):\n",
    "    collection = ee.ImageCollection(para)\n",
    "    return collection.aggregate_array('system:id').getInfo()\n",
    "    \n",
    "USGS_ID = Get_GEEid(\"USGS/NLCD\")\n",
    "USGS_ID"
   ]
  },
  {
   "cell_type": "code",
   "execution_count": null,
   "metadata": {},
   "outputs": [],
   "source": [
    "# 分别选取2001年和2016年的土地利用数据进行对比\n",
    "nlcd_old = ee.Image(USGS_ID[1]).select('landcover')\n",
    "nlcd_new = ee.Image(USGS_ID[-1]).select('landcover')\n",
    "\n",
    "# 把GEE的图层转换为ipyleaflet TileLayer\n",
    "left_layer = geemap.ee_tile_layer(nlcd_old, {}, 'NLCD old')\n",
    "right_layer = geemap.ee_tile_layer(nlcd_new, {}, 'NLCD new')\n",
    "\n",
    "Map = geemap.Map()\n",
    "Map.split_map(left_layer, right_layer)\n",
    "Map"
   ]
  },
  {
   "cell_type": "markdown",
   "metadata": {},
   "source": [
    "## 2.4  Plotting"
   ]
  },
  {
   "cell_type": "code",
   "execution_count": null,
   "metadata": {},
   "outputs": [],
   "source": [
    "Map = geemap.Map()\n",
    "\n",
    "landsat7 = ee.Image('LE7_TOA_5YEAR/1999_2003') \\\n",
    "    .select([0, 1, 2, 3, 4, 6])\n",
    "landsat_vis = {\n",
    "    'bands': ['B4', 'B3', 'B2'], \n",
    "    'gamma': 1.4\n",
    "}\n",
    "Map.addLayer(landsat7, landsat_vis, \"LE7_TOA_5YEAR/1999_2003\")\n",
    "\n",
    "GPM = ee.ImageCollection('NASA/GPM_L3/IMERG_V06') \\\n",
    "    .filter(ee.Filter.date('2016-01-01', '2016-06-01'));\n",
    "GPM_vis = {\n",
    "  'min': 0.0,\n",
    "  'max': 1000.0,\n",
    "  'gamma': 2.5,\n",
    "}\n",
    "Map.addLayer(GPM, GPM_vis, 'NASA/GPM_L3/IMERG_V06')\n",
    "\n",
    "Map"
   ]
  },
  {
   "cell_type": "code",
   "execution_count": null,
   "metadata": {},
   "outputs": [],
   "source": [
    "在图层右上角勾选【Use Plotting】\n",
    "在图层中点击任意一点即可查看信息"
   ]
  },
  {
   "cell_type": "markdown",
   "metadata": {},
   "source": [
    "# 3  文件类型"
   ]
  },
  {
   "cell_type": "markdown",
   "metadata": {},
   "source": [
    "## 3.1  json类型"
   ]
  },
  {
   "cell_type": "code",
   "execution_count": null,
   "metadata": {},
   "outputs": [],
   "source": [
    "file_path = os.path.abspath('../data/us-states.json')\n",
    "\n",
    "if not os.path.exists(file_path):\n",
    "    url = 'https://github.com/giswqs/geemap/raw/master/examples/data/us-states.json'\n",
    "    r = requests.get(url)\n",
    "    with open(file_path, 'w') as f:\n",
    "        f.write(r.content.decode(\"utf-8\"))        \n",
    "\n",
    "with open(file_path) as f:\n",
    "    json_states = json.load(f)\n",
    "\n",
    "json_layer = GeoJSON(data=json_states, name='US States JSON', hover_style={'fillColor': 'red' , 'fillOpacity': 0.5})\n",
    "Map.add_layer(json_layer)\n",
    "\n",
    "# 转换为GEE类型\n",
    "ee_states = geojson_to_ee(json_states)\n",
    "Map.addLayer(ee_states, {}, \"US States EE\")\n",
    "\n",
    "# 也可以重新转换为geo类型\n",
    "# json_states_2 = ee_to_geojson(ee_states)\n",
    "# json_layer_2 = GeoJSON(data=json_states_2, name='US States EE JSON', hover_style={'fillColor': 'red' , 'fillOpacity': 0.5})\n",
    "# Map.add_layer(json_layer_2)"
   ]
  },
  {
   "cell_type": "markdown",
   "metadata": {},
   "source": [
    "## 3.2  shapefiles"
   ]
  },
  {
   "cell_type": "code",
   "execution_count": null,
   "metadata": {},
   "outputs": [],
   "source": [
    "Map = geemap.Map()\n",
    "# 加载shp文件\n",
    "states_shp = '../data/us-states.shp'\n",
    "states = geemap.shp_to_ee(states_shp)\n",
    "Map.addLayer(states, {}, 'US States')\n",
    "Map"
   ]
  },
  {
   "cell_type": "code",
   "execution_count": null,
   "metadata": {},
   "outputs": [],
   "source": [
    "# 导出shp文件\n",
    "geemap.ee_to_shp(states, filename='../data/countries_new.shp')\n",
    "# 导出其他格式的文件（更改后缀名即可：csv\\json\\kml\\kmz）\n",
    "geemap.ee_export_vector(states, filename='../data/states.csv')"
   ]
  },
  {
   "cell_type": "markdown",
   "metadata": {},
   "source": [
    "## 3.3  Image"
   ]
  },
  {
   "cell_type": "code",
   "execution_count": null,
   "metadata": {},
   "outputs": [],
   "source": [
    "# 加载Image图像\n",
    "image = ee.Image('LE7_TOA_5YEAR/1999_2003')\n",
    "# 定义下载区域\n",
    "roi = ee.Geometry.Polygon(\n",
    "  [[[101.0, 35.0],\n",
    "    [101.0, 34.0],\n",
    "    [100.0, 34.0],\n",
    "    [100.0, 35.0]]], None, False)\n",
    "# 输出文件路径\n",
    "out_dir = os.path.join(os.path.expanduser('~'), 'Downloads')\n",
    "filename = os.path.join(out_dir, 'landsat.tif')\n",
    "filename"
   ]
  },
  {
   "cell_type": "code",
   "execution_count": null,
   "metadata": {},
   "outputs": [],
   "source": [
    "# 裁剪影像\n",
    "image = image.clip(roi).unmask()\n",
    "# 输出影像（最后一个选项为是否输出每个波段为一张影像）\n",
    "geemap.ee_export_image(image, filename=filename, scale=90, region=roi, file_per_band=False)"
   ]
  },
  {
   "cell_type": "markdown",
   "metadata": {},
   "source": [
    "## 3.4  ImageCollection"
   ]
  },
  {
   "cell_type": "code",
   "execution_count": null,
   "metadata": {},
   "outputs": [],
   "source": [
    "loc = ee.Geometry.Point(-99.2222, 46.7816)\n",
    "collection = ee.ImageCollection('USDA/NAIP/DOQQ') \\\n",
    "    .filterBounds(loc) \\\n",
    "    .filterDate('2008-01-01', '2020-01-01') \\\n",
    "    .filter(ee.Filter.listContains(\"system:band_names\", \"N\"))\n",
    "out_dir = os.path.join(os.path.expanduser('~'), 'Downloads')\n",
    "print(collection.aggregate_array('system:index').getInfo())\n",
    "geemap.ee_export_image_collection(collection, out_dir=out_dir)"
   ]
  },
  {
   "cell_type": "markdown",
   "metadata": {},
   "source": [
    "## 3.5  numpy"
   ]
  },
  {
   "cell_type": "code",
   "execution_count": null,
   "metadata": {},
   "outputs": [],
   "source": [
    "import numpy as np\n",
    "import matplotlib.pyplot as plt\n",
    "\n",
    "img = ee.Image('LANDSAT/LC08/C01/T1_SR/LC08_038029_20180810') \\\n",
    "  .select(['B4', 'B5', 'B6'])\n",
    "\n",
    "aoi = ee.Geometry.Polygon(\n",
    "  [[[-110.8, 44.7],\n",
    "    [-110.8, 44.6],\n",
    "    [-110.6, 44.6],\n",
    "    [-110.6, 44.7]]], None, False)\n",
    "\n",
    "rgb_img = geemap.ee_to_numpy(img, region=aoi)\n",
    "print(rgb_img.shape)"
   ]
  },
  {
   "cell_type": "code",
   "execution_count": null,
   "metadata": {},
   "outputs": [],
   "source": [
    "# Scale the data to [0, 255] to show as an RGB image. \n",
    "# Adapted from https://bit.ly/2XlmQY8. Credits to Justin Braaten\n",
    "rgb_img_test = (255*((rgb_img[:, :, 0:3] - 100)/3500)).astype('uint8')\n",
    "plt.imshow(rgb_img_test)\n",
    "plt.show()"
   ]
  },
  {
   "cell_type": "markdown",
   "metadata": {},
   "source": [
    "# 4  数据分析"
   ]
  },
  {
   "cell_type": "markdown",
   "metadata": {},
   "source": [
    "## 4.1  聚类"
   ]
  },
  {
   "cell_type": "code",
   "execution_count": null,
   "metadata": {},
   "outputs": [],
   "source": [
    "# 导入特征文件\n",
    "file_path = os.path.abspath('../data/us-cities.json')\n",
    "# 如果没有该文件则请求下载此文件\n",
    "if not os.path.exists(file_path):\n",
    "    url = 'https://github.com/giswqs/geemap/raw/master/examples/data/us-cities.json'\n",
    "    r = requests.get(url)\n",
    "    with open(file_path, 'w') as f:\n",
    "        f.write(r.content.decode(\"utf-8\"))        \n",
    "\n",
    "with open(file_path) as f:\n",
    "    json_data = json.load(f)\n",
    "    \n",
    "json_data['features'][:4]"
   ]
  },
  {
   "cell_type": "code",
   "execution_count": null,
   "metadata": {},
   "outputs": [],
   "source": [
    "Map = geemap.Map()\n",
    "\n",
    "maker_cluster = MarkerCluster(\n",
    "    markers=[Marker(location=feature['geometry']['coordinates'][::-1]) for feature in json_data['features']],\n",
    "    name = 'Markers')\n",
    "\n",
    "Map.add_layer(maker_cluster)\n",
    "Map"
   ]
  }
 ],
 "metadata": {
  "kernelspec": {
   "display_name": "Python 3",
   "language": "python",
   "name": "python3"
  },
  "language_info": {
   "codemirror_mode": {
    "name": "ipython",
    "version": 3
   },
   "file_extension": ".py",
   "mimetype": "text/x-python",
   "name": "python",
   "nbconvert_exporter": "python",
   "pygments_lexer": "ipython3",
   "version": "3.8.3"
  }
 },
 "nbformat": 4,
 "nbformat_minor": 4
}
